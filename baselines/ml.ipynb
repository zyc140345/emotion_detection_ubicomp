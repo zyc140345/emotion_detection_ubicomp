{
 "cells": [
  {
   "metadata": {},
   "cell_type": "markdown",
   "source": "# **Emotion Detection: A text classification Model**",
   "id": "664cd13c400f5d77"
  },
  {
   "cell_type": "code",
   "id": "6bdab9b3",
   "metadata": {
    "_cell_guid": "b1076dfc-b9ad-4769-8c92-a6c4dae69d19",
    "_uuid": "8f2839f25d086af736a60e9eeb907d3b93b6e0e5",
    "execution": {
     "iopub.execute_input": "2024-12-15T23:26:39.964592Z",
     "iopub.status.busy": "2024-12-15T23:26:39.963514Z",
     "iopub.status.idle": "2024-12-15T23:26:41.111810Z",
     "shell.execute_reply": "2024-12-15T23:26:41.110536Z"
    },
    "papermill": {
     "duration": 1.156276,
     "end_time": "2024-12-15T23:26:41.114316",
     "exception": false,
     "start_time": "2024-12-15T23:26:39.958040",
     "status": "completed"
    },
    "tags": [],
    "ExecuteTime": {
     "end_time": "2025-06-02T12:09:58.226768Z",
     "start_time": "2025-06-02T12:09:58.188186Z"
    }
   },
   "source": [
    "import numpy as np\n",
    "import pandas as pd\n",
    "data = pd.read_csv(\"../tweet_emotions.csv\")\n",
    "data"
   ],
   "outputs": [
    {
     "data": {
      "text/plain": [
       "         tweet_id   sentiment  \\\n",
       "0      1956967341       empty   \n",
       "1      1956967666     sadness   \n",
       "2      1956967696     sadness   \n",
       "3      1956967789  enthusiasm   \n",
       "4      1956968416     neutral   \n",
       "...           ...         ...   \n",
       "39995  1753918954     neutral   \n",
       "39996  1753919001        love   \n",
       "39997  1753919005        love   \n",
       "39998  1753919043   happiness   \n",
       "39999  1753919049        love   \n",
       "\n",
       "                                                 content  \n",
       "0      @tiffanylue i know  i was listenin to bad habi...  \n",
       "1      Layin n bed with a headache  ughhhh...waitin o...  \n",
       "2                    Funeral ceremony...gloomy friday...  \n",
       "3                   wants to hang out with friends SOON!  \n",
       "4      @dannycastillo We want to trade with someone w...  \n",
       "...                                                  ...  \n",
       "39995                                   @JohnLloydTaylor  \n",
       "39996                     Happy Mothers Day  All my love  \n",
       "39997  Happy Mother's Day to all the mommies out ther...  \n",
       "39998  @niariley WASSUP BEAUTIFUL!!! FOLLOW ME!!  PEE...  \n",
       "39999  @mopedronin bullet train from tokyo    the gf ...  \n",
       "\n",
       "[40000 rows x 3 columns]"
      ],
      "text/html": [
       "<div>\n",
       "<style scoped>\n",
       "    .dataframe tbody tr th:only-of-type {\n",
       "        vertical-align: middle;\n",
       "    }\n",
       "\n",
       "    .dataframe tbody tr th {\n",
       "        vertical-align: top;\n",
       "    }\n",
       "\n",
       "    .dataframe thead th {\n",
       "        text-align: right;\n",
       "    }\n",
       "</style>\n",
       "<table border=\"1\" class=\"dataframe\">\n",
       "  <thead>\n",
       "    <tr style=\"text-align: right;\">\n",
       "      <th></th>\n",
       "      <th>tweet_id</th>\n",
       "      <th>sentiment</th>\n",
       "      <th>content</th>\n",
       "    </tr>\n",
       "  </thead>\n",
       "  <tbody>\n",
       "    <tr>\n",
       "      <th>0</th>\n",
       "      <td>1956967341</td>\n",
       "      <td>empty</td>\n",
       "      <td>@tiffanylue i know  i was listenin to bad habi...</td>\n",
       "    </tr>\n",
       "    <tr>\n",
       "      <th>1</th>\n",
       "      <td>1956967666</td>\n",
       "      <td>sadness</td>\n",
       "      <td>Layin n bed with a headache  ughhhh...waitin o...</td>\n",
       "    </tr>\n",
       "    <tr>\n",
       "      <th>2</th>\n",
       "      <td>1956967696</td>\n",
       "      <td>sadness</td>\n",
       "      <td>Funeral ceremony...gloomy friday...</td>\n",
       "    </tr>\n",
       "    <tr>\n",
       "      <th>3</th>\n",
       "      <td>1956967789</td>\n",
       "      <td>enthusiasm</td>\n",
       "      <td>wants to hang out with friends SOON!</td>\n",
       "    </tr>\n",
       "    <tr>\n",
       "      <th>4</th>\n",
       "      <td>1956968416</td>\n",
       "      <td>neutral</td>\n",
       "      <td>@dannycastillo We want to trade with someone w...</td>\n",
       "    </tr>\n",
       "    <tr>\n",
       "      <th>...</th>\n",
       "      <td>...</td>\n",
       "      <td>...</td>\n",
       "      <td>...</td>\n",
       "    </tr>\n",
       "    <tr>\n",
       "      <th>39995</th>\n",
       "      <td>1753918954</td>\n",
       "      <td>neutral</td>\n",
       "      <td>@JohnLloydTaylor</td>\n",
       "    </tr>\n",
       "    <tr>\n",
       "      <th>39996</th>\n",
       "      <td>1753919001</td>\n",
       "      <td>love</td>\n",
       "      <td>Happy Mothers Day  All my love</td>\n",
       "    </tr>\n",
       "    <tr>\n",
       "      <th>39997</th>\n",
       "      <td>1753919005</td>\n",
       "      <td>love</td>\n",
       "      <td>Happy Mother's Day to all the mommies out ther...</td>\n",
       "    </tr>\n",
       "    <tr>\n",
       "      <th>39998</th>\n",
       "      <td>1753919043</td>\n",
       "      <td>happiness</td>\n",
       "      <td>@niariley WASSUP BEAUTIFUL!!! FOLLOW ME!!  PEE...</td>\n",
       "    </tr>\n",
       "    <tr>\n",
       "      <th>39999</th>\n",
       "      <td>1753919049</td>\n",
       "      <td>love</td>\n",
       "      <td>@mopedronin bullet train from tokyo    the gf ...</td>\n",
       "    </tr>\n",
       "  </tbody>\n",
       "</table>\n",
       "<p>40000 rows × 3 columns</p>\n",
       "</div>"
      ]
     },
     "execution_count": 1,
     "metadata": {},
     "output_type": "execute_result"
    }
   ],
   "execution_count": 1
  },
  {
   "cell_type": "code",
   "id": "bec4f5d6",
   "metadata": {
    "execution": {
     "iopub.execute_input": "2024-12-15T23:26:41.124426Z",
     "iopub.status.busy": "2024-12-15T23:26:41.124038Z",
     "iopub.status.idle": "2024-12-15T23:26:41.160322Z",
     "shell.execute_reply": "2024-12-15T23:26:41.159079Z"
    },
    "papermill": {
     "duration": 0.044245,
     "end_time": "2024-12-15T23:26:41.162874",
     "exception": false,
     "start_time": "2024-12-15T23:26:41.118629",
     "status": "completed"
    },
    "tags": [],
    "ExecuteTime": {
     "end_time": "2025-06-02T12:09:58.262449Z",
     "start_time": "2025-06-02T12:09:58.249354Z"
    }
   },
   "source": [
    "data.duplicated().sum()"
   ],
   "outputs": [
    {
     "data": {
      "text/plain": [
       "0"
      ]
     },
     "execution_count": 2,
     "metadata": {},
     "output_type": "execute_result"
    }
   ],
   "execution_count": 2
  },
  {
   "cell_type": "code",
   "id": "6307c1cd",
   "metadata": {
    "execution": {
     "iopub.execute_input": "2024-12-15T23:26:41.173275Z",
     "iopub.status.busy": "2024-12-15T23:26:41.172848Z",
     "iopub.status.idle": "2024-12-15T23:26:41.186630Z",
     "shell.execute_reply": "2024-12-15T23:26:41.185494Z"
    },
    "papermill": {
     "duration": 0.021858,
     "end_time": "2024-12-15T23:26:41.189075",
     "exception": false,
     "start_time": "2024-12-15T23:26:41.167217",
     "status": "completed"
    },
    "tags": [],
    "ExecuteTime": {
     "end_time": "2025-06-02T12:09:58.286750Z",
     "start_time": "2025-06-02T12:09:58.282547Z"
    }
   },
   "source": [
    "data.isnull().sum()"
   ],
   "outputs": [
    {
     "data": {
      "text/plain": [
       "tweet_id     0\n",
       "sentiment    0\n",
       "content      0\n",
       "dtype: int64"
      ]
     },
     "execution_count": 3,
     "metadata": {},
     "output_type": "execute_result"
    }
   ],
   "execution_count": 3
  },
  {
   "cell_type": "code",
   "id": "51f75f51",
   "metadata": {
    "execution": {
     "iopub.execute_input": "2024-12-15T23:26:41.199508Z",
     "iopub.status.busy": "2024-12-15T23:26:41.199115Z",
     "iopub.status.idle": "2024-12-15T23:26:41.204266Z",
     "shell.execute_reply": "2024-12-15T23:26:41.203197Z"
    },
    "papermill": {
     "duration": 0.01304,
     "end_time": "2024-12-15T23:26:41.206531",
     "exception": false,
     "start_time": "2024-12-15T23:26:41.193491",
     "status": "completed"
    },
    "tags": [],
    "ExecuteTime": {
     "end_time": "2025-06-02T12:09:58.303020Z",
     "start_time": "2025-06-02T12:09:58.301257Z"
    }
   },
   "source": [
    "x=data[\"content\"]\n",
    "y=data[\"sentiment\"]"
   ],
   "outputs": [],
   "execution_count": 4
  },
  {
   "cell_type": "code",
   "id": "03ca9ae1",
   "metadata": {
    "execution": {
     "iopub.execute_input": "2024-12-15T23:26:41.217075Z",
     "iopub.status.busy": "2024-12-15T23:26:41.216645Z",
     "iopub.status.idle": "2024-12-15T23:26:43.465650Z",
     "shell.execute_reply": "2024-12-15T23:26:43.464289Z"
    },
    "papermill": {
     "duration": 2.257234,
     "end_time": "2024-12-15T23:26:43.468301",
     "exception": false,
     "start_time": "2024-12-15T23:26:41.211067",
     "status": "completed"
    },
    "tags": [],
    "ExecuteTime": {
     "end_time": "2025-06-02T12:09:58.596377Z",
     "start_time": "2025-06-02T12:09:58.323699Z"
    }
   },
   "source": [
    "from sklearn.feature_extraction.text import CountVectorizer\n",
    "vect = CountVectorizer()\n",
    "x_vec = vect.fit_transform(x)\n"
   ],
   "outputs": [],
   "execution_count": 5
  },
  {
   "cell_type": "code",
   "id": "9a330c54",
   "metadata": {
    "execution": {
     "iopub.execute_input": "2024-12-15T23:26:43.479880Z",
     "iopub.status.busy": "2024-12-15T23:26:43.479348Z",
     "iopub.status.idle": "2024-12-15T23:26:43.487006Z",
     "shell.execute_reply": "2024-12-15T23:26:43.485706Z"
    },
    "papermill": {
     "duration": 0.015583,
     "end_time": "2024-12-15T23:26:43.489343",
     "exception": false,
     "start_time": "2024-12-15T23:26:43.473760",
     "status": "completed"
    },
    "tags": [],
    "ExecuteTime": {
     "end_time": "2025-06-02T12:09:58.620243Z",
     "start_time": "2025-06-02T12:09:58.617905Z"
    }
   },
   "source": [
    "x_vec"
   ],
   "outputs": [
    {
     "data": {
      "text/plain": [
       "<40000x48212 sparse matrix of type '<class 'numpy.int64'>'\n",
       "\twith 475946 stored elements in Compressed Sparse Row format>"
      ]
     },
     "execution_count": 6,
     "metadata": {},
     "output_type": "execute_result"
    }
   ],
   "execution_count": 6
  },
  {
   "cell_type": "code",
   "id": "b6495fc0",
   "metadata": {
    "execution": {
     "iopub.execute_input": "2024-12-15T23:26:43.500303Z",
     "iopub.status.busy": "2024-12-15T23:26:43.499850Z",
     "iopub.status.idle": "2024-12-15T23:26:43.620506Z",
     "shell.execute_reply": "2024-12-15T23:26:43.619046Z"
    },
    "papermill": {
     "duration": 0.128909,
     "end_time": "2024-12-15T23:26:43.623165",
     "exception": false,
     "start_time": "2024-12-15T23:26:43.494256",
     "status": "completed"
    },
    "tags": [],
    "ExecuteTime": {
     "end_time": "2025-06-02T12:09:58.683110Z",
     "start_time": "2025-06-02T12:09:58.644464Z"
    }
   },
   "source": [
    "from sklearn.model_selection import train_test_split\n",
    "from sklearn.metrics import accuracy_score, f1_score\n",
    "\n",
    "X_train, X_test, y_train, y_test = train_test_split(x_vec, y, random_state=42, test_size=0.2)"
   ],
   "outputs": [],
   "execution_count": 7
  },
  {
   "cell_type": "markdown",
   "id": "f4ba5ab8",
   "metadata": {
    "papermill": {
     "duration": 0.00401,
     "end_time": "2024-12-15T23:26:43.631680",
     "exception": false,
     "start_time": "2024-12-15T23:26:43.627670",
     "status": "completed"
    },
    "tags": []
   },
   "source": "## ML Models"
  },
  {
   "cell_type": "code",
   "id": "c01fe903",
   "metadata": {
    "execution": {
     "iopub.execute_input": "2024-12-15T23:26:43.641793Z",
     "iopub.status.busy": "2024-12-15T23:26:43.641397Z",
     "iopub.status.idle": "2024-12-15T23:26:43.815436Z",
     "shell.execute_reply": "2024-12-15T23:26:43.814157Z"
    },
    "papermill": {
     "duration": 0.181918,
     "end_time": "2024-12-15T23:26:43.817788",
     "exception": false,
     "start_time": "2024-12-15T23:26:43.635870",
     "status": "completed"
    },
    "tags": [],
    "ExecuteTime": {
     "end_time": "2025-06-02T12:16:02.098271Z",
     "start_time": "2025-06-02T12:09:58.704337Z"
    }
   },
   "source": [
    "from sklearn.linear_model import LogisticRegression\n",
    "from sklearn.ensemble import RandomForestClassifier\n",
    "from sklearn.svm import SVC\n",
    "from sklearn.naive_bayes import MultinomialNB\n",
    "from sklearn.neighbors import KNeighborsClassifier\n",
    "from sklearn.tree import DecisionTreeClassifier\n",
    "\n",
    "# Define models to test\n",
    "models = {\n",
    "    \"Logistic Regression\": LogisticRegression(max_iter=1000),\n",
    "    \"Random Forest\": RandomForestClassifier(),\n",
    "    \"Support Vector Machine\": SVC(),\n",
    "    \"Naive Bayes\": MultinomialNB(),\n",
    "    \"K-Nearest Neighbors\": KNeighborsClassifier(),\n",
    "    \"Decision Tree\": DecisionTreeClassifier(),\n",
    "}\n",
    "\n",
    "# Dictionary to store model accuracies and F1 scores\n",
    "model_accuracies = {}\n",
    "model_f1_scores = {}\n",
    "\n",
    "# Train and evaluate each model\n",
    "for model_name, model in models.items():\n",
    "    # Train the model\n",
    "    model.fit(X_train, y_train)\n",
    "\n",
    "    # Make predictions\n",
    "    y_pred = model.predict(X_test)\n",
    "\n",
    "    # Calculate accuracy\n",
    "    accuracy = accuracy_score(y_test, y_pred)\n",
    "    model_accuracies[model_name] = accuracy\n",
    "    model_f1_scores[model_name] = f1_score(y_test, y_pred, average='macro', zero_division=0)\n",
    "    print(f\"{model_name}: Accuracy = {accuracy:.4f}\")\n",
    "    print(f\"{model_name}: F1 Score = {model_f1_scores[model_name]:.4f}\")\n",
    "\n",
    "# Find the best model\n",
    "best_model_name = max(model_f1_scores, key=model_f1_scores.get)\n",
    "best_accuracy = model_accuracies[best_model_name]\n",
    "base_f1_score = model_f1_scores[best_model_name]\n",
    "\n",
    "print(\"\\nBest Model:\")\n",
    "print(f\"{best_model_name}: Accuracy = {best_accuracy:.4f}, F1 Score = {base_f1_score:.4f}\")"
   ],
   "outputs": [
    {
     "name": "stdout",
     "output_type": "stream",
     "text": [
      "Logistic Regression: Accuracy = 0.3360\n",
      "Logistic Regression: F1 Score = 0.1791\n",
      "Random Forest: Accuracy = 0.3294\n",
      "Random Forest: F1 Score = 0.1515\n",
      "Support Vector Machine: Accuracy = 0.3483\n",
      "Support Vector Machine: F1 Score = 0.1595\n",
      "Naive Bayes: Accuracy = 0.3079\n",
      "Naive Bayes: F1 Score = 0.1232\n",
      "K-Nearest Neighbors: Accuracy = 0.2442\n",
      "K-Nearest Neighbors: F1 Score = 0.1127\n",
      "Decision Tree: Accuracy = 0.2671\n",
      "Decision Tree: F1 Score = 0.1559\n",
      "\n",
      "Best Model:\n",
      "Logistic Regression: Accuracy = 0.3360, F1 Score = 0.1791\n"
     ]
    }
   ],
   "execution_count": 8
  }
 ],
 "metadata": {
  "kaggle": {
   "accelerator": "none",
   "dataSources": [
    {
     "datasetId": 1116138,
     "sourceId": 1874890,
     "sourceType": "datasetVersion"
    }
   ],
   "dockerImageVersionId": 30804,
   "isGpuEnabled": false,
   "isInternetEnabled": true,
   "language": "python",
   "sourceType": "notebook"
  },
  "kernelspec": {
   "display_name": "Python 3",
   "language": "python",
   "name": "python3"
  },
  "language_info": {
   "codemirror_mode": {
    "name": "ipython",
    "version": 3
   },
   "file_extension": ".py",
   "mimetype": "text/x-python",
   "name": "python",
   "nbconvert_exporter": "python",
   "pygments_lexer": "ipython3",
   "version": "3.10.14"
  },
  "papermill": {
   "default_parameters": {},
   "duration": 87.168859,
   "end_time": "2024-12-15T23:28:04.246938",
   "environment_variables": {},
   "exception": null,
   "input_path": "__notebook__.ipynb",
   "output_path": "__notebook__.ipynb",
   "parameters": {},
   "start_time": "2024-12-15T23:26:37.078079",
   "version": "2.6.0"
  }
 },
 "nbformat": 4,
 "nbformat_minor": 5
}
